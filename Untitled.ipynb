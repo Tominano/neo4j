{
 "cells": [
  {
   "cell_type": "code",
   "execution_count": 1,
   "id": "349af0a8",
   "metadata": {},
   "outputs": [
    {
     "name": "stdout",
     "output_type": "stream",
     "text": [
      "Populating the interactive namespace from numpy and matplotlib\n"
     ]
    }
   ],
   "source": [
    "import pandas as pd\n",
    "%pylab inline"
   ]
  },
  {
   "cell_type": "code",
   "execution_count": 2,
   "id": "4e6643cf",
   "metadata": {},
   "outputs": [],
   "source": [
    "import neo4jupyter"
   ]
  },
  {
   "cell_type": "code",
   "execution_count": 3,
   "id": "9a6e676a",
   "metadata": {},
   "outputs": [
    {
     "data": {
      "text/html": [
       "<script>\n",
       "code_show=true;\n",
       "function code_toggle() {\n",
       " if (code_show){\n",
       " $('div.input').hide();\n",
       " } else {\n",
       " $('div.input').show();\n",
       " }\n",
       " code_show = !code_show\n",
       "}\n",
       "$( document ).ready(code_toggle);\n",
       "</script>\n",
       "<form action=\"javascript:code_toggle()\"><input type=\"submit\"\n",
       "value=\"Click here to toggle on/off the raw code.\"></form>"
      ],
      "text/plain": [
       "<IPython.core.display.HTML object>"
      ]
     },
     "execution_count": 3,
     "metadata": {},
     "output_type": "execute_result"
    }
   ],
   "source": [
    "HTML('''<script>\n",
    "code_show=true;\n",
    "function code_toggle() {\n",
    " if (code_show){\n",
    " $('div.input').hide();\n",
    " } else {\n",
    " $('div.input').show();\n",
    " }\n",
    " code_show = !code_show\n",
    "}\n",
    "$( document ).ready(code_toggle);\n",
    "</script>\n",
    "<form action=\"javascript:code_toggle()\"><input type=\"submit\"\n",
    "value=\"Click here to toggle on/off the raw code.\"></form>''')"
   ]
  },
  {
   "cell_type": "markdown",
   "id": "106f54af",
   "metadata": {},
   "source": [
    "Beolvasok minden adatot, és megnézem, hogy van-e banne adathiba.\n",
    "\n",
    "példa:\n",
    "\n",
    "trips = pd.read_csv(\"trips.txt\")\n",
    "\n",
    "trips[[\"route_id\", \"trip_id\", \"shape_id\"]].isna().sum(axis=0)\n",
    "\n",
    "a .sum(axis=0) arra kell, hogy a megtalált hibák számát adja ki."
   ]
  },
  {
   "cell_type": "code",
   "execution_count": 14,
   "id": "af68a925",
   "metadata": {},
   "outputs": [
    {
     "data": {
      "text/plain": [
       "route_id    0\n",
       "trip_id     0\n",
       "shape_id    0\n",
       "dtype: int64"
      ]
     },
     "execution_count": 14,
     "metadata": {},
     "output_type": "execute_result"
    }
   ],
   "source": [
    "trips = pd.read_csv(\"trips.txt\")\n",
    "trips[[\"route_id\", \"trip_id\", \"shape_id\"]].isna().sum(axis=0)"
   ]
  },
  {
   "cell_type": "code",
   "execution_count": 9,
   "id": "ee364ca0",
   "metadata": {},
   "outputs": [
    {
     "data": {
      "text/plain": [
       "stop_id      0\n",
       "stop_name    0\n",
       "stop_lat     0\n",
       "stop_lon     0\n",
       "dtype: int64"
      ]
     },
     "execution_count": 9,
     "metadata": {},
     "output_type": "execute_result"
    }
   ],
   "source": [
    "stops = pd.read_csv(\"stops.txt\")\n",
    "\n",
    "#No missing values in the important cols\n",
    "stops[[\"stop_id\", \"stop_name\", \"stop_lat\",\"stop_lon\"]].isna().sum(axis=0)"
   ]
  },
  {
   "cell_type": "code",
   "execution_count": 11,
   "id": "264ecf43",
   "metadata": {},
   "outputs": [
    {
     "data": {
      "text/plain": [
       "route_id            0\n",
       "route_short_name    0\n",
       "route_type          0\n",
       "route_desc          0\n",
       "dtype: int64"
      ]
     },
     "execution_count": 11,
     "metadata": {},
     "output_type": "execute_result"
    }
   ],
   "source": [
    "routes = pd.read_csv(\"routes.txt\")\n",
    "\n",
    "#No missing values in the important cols\n",
    "routes[[\"route_id\",\"route_short_name\",\"route_type\",\"route_desc\"]].isna().sum(axis=0)"
   ]
  },
  {
   "cell_type": "code",
   "execution_count": 21,
   "id": "8f2440c8",
   "metadata": {},
   "outputs": [
    {
     "data": {
      "text/plain": [
       "trip_id           0\n",
       "stop_id           0\n",
       "arrival_time      0\n",
       "departure_time    0\n",
       "stop_sequence     0\n",
       "dtype: int64"
      ]
     },
     "execution_count": 21,
     "metadata": {},
     "output_type": "execute_result"
    }
   ],
   "source": [
    "stop_times = pd.read_csv(\"stop_times.txt\")\n",
    "\n",
    "#No missing values in the important cols\n",
    "stop_times[['trip_id', 'stop_id', 'arrival_time', 'departure_time', 'stop_sequence']].isna().sum(axis=0)"
   ]
  },
  {
   "cell_type": "markdown",
   "id": "7f6c0b28",
   "metadata": {},
   "source": [
    "Mindegyik tábla rendben van."
   ]
  },
  {
   "cell_type": "markdown",
   "id": "af6f9ff6",
   "metadata": {},
   "source": [
    "Első probléma... az idő....\n",
    "\n",
    "Át kell alakítani."
   ]
  },
  {
   "cell_type": "code",
   "execution_count": 22,
   "id": "6b5c7635",
   "metadata": {},
   "outputs": [
    {
     "data": {
      "text/plain": [
       "'28:39:00'"
      ]
     },
     "execution_count": 22,
     "metadata": {},
     "output_type": "execute_result"
    }
   ],
   "source": [
    "stop_times.departure_time.max()"
   ]
  },
  {
   "cell_type": "code",
   "execution_count": 23,
   "id": "cb9e6008",
   "metadata": {},
   "outputs": [],
   "source": [
    "def idoalakitas(time):\n",
    "    t = time.split(\":\")\n",
    "    t = [ *map(int, t)]\n",
    "\n",
    "    t[0] = t[0] % 24\n",
    "    return \"{:02d}:{:02d}:{:02d}\".format(*t)"
   ]
  },
  {
   "cell_type": "code",
   "execution_count": 24,
   "id": "3b69ffe6",
   "metadata": {},
   "outputs": [],
   "source": [
    "stop_times.departure_time = stop_times.departure_time.map(idoalakitas)\n",
    "stop_times.arrival_time = stop_times.arrival_time.map(idoalakitas)"
   ]
  },
  {
   "cell_type": "code",
   "execution_count": 25,
   "id": "4dc791c3",
   "metadata": {},
   "outputs": [
    {
     "data": {
      "text/plain": [
       "'23:59:35'"
      ]
     },
     "execution_count": 25,
     "metadata": {},
     "output_type": "execute_result"
    }
   ],
   "source": [
    "stop_times.departure_time.max()"
   ]
  },
  {
   "cell_type": "code",
   "execution_count": 19,
   "id": "a0c883a3",
   "metadata": {},
   "outputs": [],
   "source": [
    "stop_times.to_csv(\"stop_times.csv\")"
   ]
  },
  {
   "cell_type": "code",
   "execution_count": null,
   "id": "3f333d75",
   "metadata": {},
   "outputs": [],
   "source": []
  }
 ],
 "metadata": {
  "kernelspec": {
   "display_name": "Python 3 (ipykernel)",
   "language": "python",
   "name": "python3"
  },
  "language_info": {
   "codemirror_mode": {
    "name": "ipython",
    "version": 3
   },
   "file_extension": ".py",
   "mimetype": "text/x-python",
   "name": "python",
   "nbconvert_exporter": "python",
   "pygments_lexer": "ipython3",
   "version": "3.8.10"
  }
 },
 "nbformat": 4,
 "nbformat_minor": 5
}
